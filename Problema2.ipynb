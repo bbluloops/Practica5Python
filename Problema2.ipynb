{
 "cells": [
  {
   "cell_type": "code",
   "execution_count": 2,
   "metadata": {},
   "outputs": [
    {
     "name": "stderr",
     "output_type": "stream",
     "text": [
      "/tmp/ipykernel_28913/4080736814.py:1: DeprecationWarning: \n",
      "Pyarrow will become a required dependency of pandas in the next major release of pandas (pandas 3.0),\n",
      "(to allow more performant data types, such as the Arrow string type, and better interoperability with other libraries)\n",
      "but was not found to be installed on your system.\n",
      "If this would cause problems for you,\n",
      "please provide us feedback at https://github.com/pandas-dev/pandas/issues/54466\n",
      "        \n",
      "  import pandas as pd\n"
     ]
    }
   ],
   "source": [
    "import pandas as pd"
   ]
  },
  {
   "cell_type": "code",
   "execution_count": 3,
   "metadata": {},
   "outputs": [],
   "source": [
    "# Cargar el archivo CSV desde la carpeta 'data'\n",
    "df_wine = pd.read_csv(\"./data/winemag-data-130k-v2.csv\")"
   ]
  },
  {
   "cell_type": "code",
   "execution_count": 4,
   "metadata": {},
   "outputs": [
    {
     "name": "stdout",
     "output_type": "stream",
     "text": [
      "Información general del DataFrame:\n",
      "<class 'pandas.core.frame.DataFrame'>\n",
      "RangeIndex: 65499 entries, 0 to 65498\n",
      "Data columns (total 14 columns):\n",
      " #   Column                 Non-Null Count  Dtype  \n",
      "---  ------                 --------------  -----  \n",
      " 0   Unnamed: 0             65499 non-null  int64  \n",
      " 1   country                65467 non-null  object \n",
      " 2   description            65499 non-null  object \n",
      " 3   designation            46588 non-null  object \n",
      " 4   points                 65499 non-null  int64  \n",
      " 5   price                  60829 non-null  float64\n",
      " 6   province               65467 non-null  object \n",
      " 7   region_1               54744 non-null  object \n",
      " 8   region_2               25170 non-null  object \n",
      " 9   taster_name            51856 non-null  object \n",
      " 10  taster_twitter_handle  49467 non-null  object \n",
      " 11  title                  65499 non-null  object \n",
      " 12  variety                65499 non-null  object \n",
      " 13  winery                 65499 non-null  object \n",
      "dtypes: float64(1), int64(2), object(11)\n",
      "memory usage: 7.0+ MB\n",
      "None\n",
      "\n",
      "Primeras filas del DataFrame:\n",
      "   Unnamed: 0   country                                        description  \\\n",
      "0           0     Italy  Aromas include tropical fruit, broom, brimston...   \n",
      "1           1  Portugal  This is ripe and fruity, a wine that is smooth...   \n",
      "2           2        US  Tart and snappy, the flavors of lime flesh and...   \n",
      "3           3        US  Pineapple rind, lemon pith and orange blossom ...   \n",
      "4           4        US  Much like the regular bottling from 2012, this...   \n",
      "\n",
      "                          designation  points  price           province  \\\n",
      "0                        Vulkà Bianco      87    NaN  Sicily & Sardinia   \n",
      "1                            Avidagos      87   15.0              Douro   \n",
      "2                                 NaN      87   14.0             Oregon   \n",
      "3                Reserve Late Harvest      87   13.0           Michigan   \n",
      "4  Vintner's Reserve Wild Child Block      87   65.0             Oregon   \n",
      "\n",
      "              region_1           region_2         taster_name  \\\n",
      "0                 Etna                NaN       Kerin O’Keefe   \n",
      "1                  NaN                NaN          Roger Voss   \n",
      "2    Willamette Valley  Willamette Valley        Paul Gregutt   \n",
      "3  Lake Michigan Shore                NaN  Alexander Peartree   \n",
      "4    Willamette Valley  Willamette Valley        Paul Gregutt   \n",
      "\n",
      "  taster_twitter_handle                                              title  \\\n",
      "0          @kerinokeefe                  Nicosia 2013 Vulkà Bianco  (Etna)   \n",
      "1            @vossroger      Quinta dos Avidagos 2011 Avidagos Red (Douro)   \n",
      "2           @paulgwine       Rainstorm 2013 Pinot Gris (Willamette Valley)   \n",
      "3                   NaN  St. Julian 2013 Reserve Late Harvest Riesling ...   \n",
      "4           @paulgwine   Sweet Cheeks 2012 Vintner's Reserve Wild Child...   \n",
      "\n",
      "          variety               winery  \n",
      "0     White Blend              Nicosia  \n",
      "1  Portuguese Red  Quinta dos Avidagos  \n",
      "2      Pinot Gris            Rainstorm  \n",
      "3        Riesling           St. Julian  \n",
      "4      Pinot Noir         Sweet Cheeks  \n"
     ]
    }
   ],
   "source": [
    "# 1. Exploración del DataFrame\n",
    "print(\"Información general del DataFrame:\")\n",
    "print(df_wine.info())\n",
    "print(\"\\nPrimeras filas del DataFrame:\")\n",
    "print(df_wine.head())"
   ]
  },
  {
   "cell_type": "code",
   "execution_count": 5,
   "metadata": {},
   "outputs": [],
   "source": [
    "# 2. Renombrar columnas y crear nuevas columnas\n",
    "df_wine.rename(columns={'country': 'país', 'variety': 'variedad', 'designation': 'denominación', 'points': 'puntuación', 'price': 'precio'}, inplace=True)\n",
    "df_wine['precio_promedio'] = df_wine.groupby('país')['precio'].transform('mean')\n",
    "df_wine['vino_barato'] = df_wine['precio'] / df_wine['puntuación']\n",
    "df_wine['rango_precio'] = pd.cut(df_wine['precio'], bins=[0, 10, 20, 30, 40, 50, float('inf')], labels=['0-10', '10-20', '20-30', '30-40', '40-50', '50+'])"
   ]
  },
  {
   "cell_type": "code",
   "execution_count": 6,
   "metadata": {},
   "outputs": [
    {
     "name": "stderr",
     "output_type": "stream",
     "text": [
      "/tmp/ipykernel_28913/1902685578.py:4: FutureWarning: The default of observed=False is deprecated and will be changed to True in a future version of pandas. Pass observed=False to retain current behavior or observed=True to adopt the future default and silence this warning.\n",
      "  reporte3 = df_wine.groupby('rango_precio').agg({'puntuación': 'mean', 'precio': 'mean'}).sort_values(by='rango_precio')\n"
     ]
    }
   ],
   "source": [
    "# 3. Generar reportes por agrupamiento de datos\n",
    "reporte1 = df_wine.groupby('país').agg({'puntuación': 'mean', 'precio': 'mean'}).sort_values(by='puntuación', ascending=False).head(10)\n",
    "reporte2 = df_wine.groupby('variedad').agg({'puntuación': 'mean', 'precio': 'mean'}).sort_values(by='puntuación', ascending=False).head(10)\n",
    "reporte3 = df_wine.groupby('rango_precio').agg({'puntuación': 'mean', 'precio': 'mean'}).sort_values(by='rango_precio')\n",
    "reporte4 = df_wine.groupby(['país', 'denominación']).agg({'puntuación': 'mean', 'precio': 'mean'}).sort_values(by=['país', 'puntuación'], ascending=[True, False]).head(10)\n"
   ]
  },
  {
   "cell_type": "code",
   "execution_count": 7,
   "metadata": {},
   "outputs": [],
   "source": [
    "# 4. Almacenar un reporte agrupado en un archivo Excel\n",
    "reporte4.to_excel(\"reporte_agrupado.xlsx\")"
   ]
  },
  {
   "cell_type": "code",
   "execution_count": 8,
   "metadata": {},
   "outputs": [
    {
     "name": "stdout",
     "output_type": "stream",
     "text": [
      "\n",
      "Reporte 1 - Promedio de puntuación y precio por país (Top 10):\n",
      "           puntuación     precio\n",
      "país                            \n",
      "England     91.250000  51.636364\n",
      "India       90.750000  13.500000\n",
      "Austria     89.992661  30.846774\n",
      "Germany     89.808754  40.592233\n",
      "Hungary     89.426230  50.819672\n",
      "Canada      89.212963  35.575472\n",
      "France      88.871487  41.577949\n",
      "Morocco     88.636364  21.090909\n",
      "Australia   88.582838  35.786701\n",
      "Italy       88.566417  39.739836\n",
      "\n",
      "Reporte 2 - Promedio de puntuación y precio por variedad (Top 10):\n",
      "                     puntuación      precio\n",
      "variedad                                   \n",
      "Bual                  96.500000  212.000000\n",
      "Cabernet-Shiraz       96.000000  150.000000\n",
      "Terrantez             95.000000  236.000000\n",
      "Tinta del Pais        94.000000   45.000000\n",
      "Riesling-Chardonnay   94.000000   40.000000\n",
      "Malbec-Cabernet       93.000000  147.500000\n",
      "Blauburgunder         93.000000   19.000000\n",
      "Sämling               93.000000         NaN\n",
      "Pinot Noir-Syrah      93.000000   80.000000\n",
      "Muscadelle            92.833333  119.166667\n",
      "\n",
      "Reporte 3 - Promedio de puntuación y precio por rango de precio:\n",
      "              puntuación     precio\n",
      "rango_precio                       \n",
      "0-10           85.077353   9.158745\n",
      "10-20          86.780725  15.988276\n",
      "20-30          88.264840  25.841140\n",
      "30-40          89.245364  36.304783\n",
      "40-50          90.053283  46.517532\n",
      "50+            91.342739  88.268002\n",
      "\n",
      "Reporte 4 - Promedio de puntuación y precio por país y denominación (Top 10 por país):\n",
      "                                                              puntuación  \\\n",
      "país      denominación                                                     \n",
      "Argentina Finca Pedregal Single Vineyard Barrancas Maipú ...        95.0   \n",
      "          Alta Barrancas Vineyards                                  94.0   \n",
      "          Bramare Touza Vineyard                                    94.0   \n",
      "          Chañar Punco                                              94.0   \n",
      "          El Corte Tomal Vineyard                                   94.0   \n",
      "          Magdalena Toso Limited 20 Barrels                         94.0   \n",
      "          Paraje Altamira                                           94.0   \n",
      "          Single Vineyard Alizarine                                 94.0   \n",
      "          Single Vineyard Serenade                                  94.0   \n",
      "          Single Vineyard Temis                                     94.0   \n",
      "\n",
      "                                                              precio  \n",
      "país      denominación                                                \n",
      "Argentina Finca Pedregal Single Vineyard Barrancas Maipú ...    74.0  \n",
      "          Alta Barrancas Vineyards                              50.0  \n",
      "          Bramare Touza Vineyard                                90.0  \n",
      "          Chañar Punco                                          68.0  \n",
      "          El Corte Tomal Vineyard                               50.0  \n",
      "          Magdalena Toso Limited 20 Barrels                    102.0  \n",
      "          Paraje Altamira                                       60.0  \n",
      "          Single Vineyard Alizarine                             48.0  \n",
      "          Single Vineyard Serenade                              48.0  \n",
      "          Single Vineyard Temis                                 50.0  \n"
     ]
    }
   ],
   "source": [
    "# Visualización de los reportes\n",
    "print(\"\\nReporte 1 - Promedio de puntuación y precio por país (Top 10):\")\n",
    "print(reporte1)\n",
    "print(\"\\nReporte 2 - Promedio de puntuación y precio por variedad (Top 10):\")\n",
    "print(reporte2)\n",
    "print(\"\\nReporte 3 - Promedio de puntuación y precio por rango de precio:\")\n",
    "print(reporte3)\n",
    "print(\"\\nReporte 4 - Promedio de puntuación y precio por país y denominación (Top 10 por país):\")\n",
    "print(reporte4)"
   ]
  }
 ],
 "metadata": {
  "kernelspec": {
   "display_name": "Python 3",
   "language": "python",
   "name": "python3"
  },
  "language_info": {
   "codemirror_mode": {
    "name": "ipython",
    "version": 3
   },
   "file_extension": ".py",
   "mimetype": "text/x-python",
   "name": "python",
   "nbconvert_exporter": "python",
   "pygments_lexer": "ipython3",
   "version": "3.10.13"
  }
 },
 "nbformat": 4,
 "nbformat_minor": 2
}
