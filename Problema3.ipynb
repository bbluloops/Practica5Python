{
 "cells": [
  {
   "cell_type": "markdown",
   "metadata": {},
   "source": [
    "PROCESAMIENTO"
   ]
  },
  {
   "cell_type": "code",
   "execution_count": 41,
   "metadata": {},
   "outputs": [],
   "source": [
    "import pandas as pd\n",
    "import requests"
   ]
  },
  {
   "cell_type": "code",
   "execution_count": 42,
   "metadata": {},
   "outputs": [],
   "source": [
    "def limpieza_datos(df):\n",
    "    df.columns = df.columns.str.lower().str.replace(' ', '_').str.normalize('NFKD').str.encode('ascii', errors='ignore').str.decode('utf-8')\n",
    "\n",
    "    df.drop(columns=['id', 'tipo_moneda'], inplace=True)\n",
    "\n",
    "    df['dispositivo_legal'] = df['dispositivo_legal'].str.replace(',', '')\n",
    "    \n",
    "    return df\n",
    "\n",
    "def dolarizar_montos(df):\n",
    "\n",
    "    response = requests.get('https://api.apis.net.pe/v1/tipo-cambio-sunat')\n",
    "    if response.status_code == 200:\n",
    "        tipo_cambio = response.json()['compra']\n",
    "        \n",
    "        df['monto_inversion_dolar'] = df['monto_inversion'] / tipo_cambio\n",
    "        df['monto_transferencia_dolar'] = df['monto_transferencia'] / tipo_cambio\n",
    "    else:\n",
    "        print(\"Error al obtener el tipo de cambio\")\n",
    "\n",
    "    return df\n",
    "\n",
    "def mapeo_estado(df):\n",
    "\n",
    "    df['estado'] = df['estado'].map({'Actos Previos': 1, 'Resuelto': 0, 'Ejecucion': 2, 'Concluido': 3})\n",
    "    return df\n",
    "\n",
    "def generar_reporte_ubigeos(df):\n",
    "\n",
    "    ubigeos_df = df[['ubigeo', 'region', 'provincia', 'distrito']].drop_duplicates()\n",
    "    \n",
    "def generar_reporte_top5_urbanas_estado(df):\n",
    "    \n",
    "    pass  \n"
   ]
  },
  {
   "cell_type": "markdown",
   "metadata": {},
   "source": [
    "ENVIAR_CORREO"
   ]
  },
  {
   "cell_type": "code",
   "execution_count": 43,
   "metadata": {},
   "outputs": [],
   "source": [
    "import smtplib\n",
    "from email.mime.multipart import MIMEMultipart\n",
    "from email.mime.text import MIMEText"
   ]
  },
  {
   "cell_type": "code",
   "execution_count": 44,
   "metadata": {},
   "outputs": [],
   "source": [
    "def enviar_correo(destinatario, asunto, mensaje):\n",
    "\n",
    "    smtp_server = 'smtp.example.com'\n",
    "    smtp_port = 587\n",
    "    smtp_username = 'tu_correo@example.com'\n",
    "    smtp_password = 'tu_contraseña'\n",
    "\n",
    "    msg = MIMEMultipart()\n",
    "    msg['From'] = smtp_username\n",
    "    msg['To'] = destinatario\n",
    "    msg['Subject'] = asunto\n",
    "\n",
    "    msg.attach(MIMEText(mensaje, 'plain'))\n",
    "\n",
    "    server = smtplib.SMTP(smtp_server, smtp_port)\n",
    "    server.starttls()\n",
    "\n",
    "    server.login(smtp_username, smtp_password)\n",
    "    server.sendmail(smtp_username, destinatario, msg.as_string())\n",
    "\n",
    "    server.quit()\n"
   ]
  }
 ],
 "metadata": {
  "kernelspec": {
   "display_name": "Python 3",
   "language": "python",
   "name": "python3"
  },
  "language_info": {
   "codemirror_mode": {
    "name": "ipython",
    "version": 3
   },
   "file_extension": ".py",
   "mimetype": "text/x-python",
   "name": "python",
   "nbconvert_exporter": "python",
   "pygments_lexer": "ipython3",
   "version": "3.10.13"
  }
 },
 "nbformat": 4,
 "nbformat_minor": 2
}
